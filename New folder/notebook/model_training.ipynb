{
 "cells": [
  {
   "cell_type": "code",
   "execution_count": 3,
   "metadata": {},
   "outputs": [],
   "source": [
    "from housing.entity.model_factory import ModelFactory, get_sample_model_config_yaml_file"
   ]
  },
  {
   "cell_type": "code",
   "execution_count": 4,
   "metadata": {},
   "outputs": [
    {
     "data": {
      "text/plain": [
       "'config\\\\model.yaml'"
      ]
     },
     "execution_count": 4,
     "metadata": {},
     "output_type": "execute_result"
    }
   ],
   "source": [
    "get_sample_model_config_yaml_file(export_dir=\"config\")"
   ]
  },
  {
   "cell_type": "code",
   "execution_count": 5,
   "metadata": {},
   "outputs": [],
   "source": [
    "from sklearn.linear_model import LinearRegression"
   ]
  },
  {
   "cell_type": "code",
   "execution_count": null,
   "metadata": {},
   "outputs": [],
   "source": [
    "LinearRegression()"
   ]
  },
  {
   "cell_type": "code",
   "execution_count": 6,
   "metadata": {},
   "outputs": [],
   "source": [
    "model_config_file = r\"C:\\Users\\fazlu\\Machine Learning Projects\\machine-learning-regression-project\\notebook\\config\\model.yaml\""
   ]
  },
  {
   "cell_type": "code",
   "execution_count": 7,
   "metadata": {},
   "outputs": [],
   "source": [
    "model_factory = ModelFactory(model_config_path=model_config_file)"
   ]
  },
  {
   "cell_type": "code",
   "execution_count": 8,
   "metadata": {},
   "outputs": [
    {
     "name": "stdout",
     "output_type": "stream",
     "text": [
      "{'fit_intercept': True}\n",
      "{'n_estimators': 40, 'min_samples_leaf': 2}\n"
     ]
    }
   ],
   "source": [
    "model_list = model_factory.get_initialized_model_list()"
   ]
  },
  {
   "cell_type": "code",
   "execution_count": 9,
   "metadata": {},
   "outputs": [
    {
     "data": {
      "text/plain": [
       "[InitializedModelDetail(model_serial_number='module_0', model=LinearRegression(), param_grid_search={'paramfit_intercept_name': [True, False]}, model_name='sklearn.linear_model.LinearRegression'),\n",
       " InitializedModelDetail(model_serial_number='module_1', model=RandomForestRegressor(min_samples_leaf=2, n_estimators=40), param_grid_search={'min_samples_leaf': [2, 4, 6], 'n_estimators': [50, 100, 80]}, model_name='sklearn.ensemble.RandomForestRegressor')]"
      ]
     },
     "execution_count": 9,
     "metadata": {},
     "output_type": "execute_result"
    }
   ],
   "source": [
    "model_list"
   ]
  },
  {
   "cell_type": "code",
   "execution_count": 10,
   "metadata": {},
   "outputs": [
    {
     "data": {
      "text/plain": [
       "2"
      ]
     },
     "execution_count": 10,
     "metadata": {},
     "output_type": "execute_result"
    }
   ],
   "source": [
    "len(model_list)"
   ]
  },
  {
   "cell_type": "code",
   "execution_count": 11,
   "metadata": {},
   "outputs": [
    {
     "data": {
      "text/plain": [
       "InitializedModelDetail(model_serial_number='module_0', model=LinearRegression(), param_grid_search={'paramfit_intercept_name': [True, False]}, model_name='sklearn.linear_model.LinearRegression')"
      ]
     },
     "execution_count": 11,
     "metadata": {},
     "output_type": "execute_result"
    }
   ],
   "source": [
    "model_list[0]"
   ]
  },
  {
   "cell_type": "code",
   "execution_count": 12,
   "metadata": {},
   "outputs": [],
   "source": [
    "from housing.util.util import load_numpy_array_data"
   ]
  },
  {
   "cell_type": "code",
   "execution_count": 13,
   "metadata": {},
   "outputs": [],
   "source": [
    "data_file_path = r\"C:\\Users\\fazlu\\Machine Learning Projects\\machine-learning-regression-project\\housing\\artifact\\data_transformation\\22-10-01-10-24-41\\transformed_data\\train\\housing.npz\""
   ]
  },
  {
   "cell_type": "code",
   "execution_count": 14,
   "metadata": {},
   "outputs": [],
   "source": [
    "data = load_numpy_array_data(data_file_path)"
   ]
  },
  {
   "cell_type": "code",
   "execution_count": 15,
   "metadata": {},
   "outputs": [],
   "source": [
    "x,y = data[:,:-1], data[:,-1]"
   ]
  },
  {
   "cell_type": "code",
   "execution_count": 17,
   "metadata": {},
   "outputs": [
    {
     "name": "stdout",
     "output_type": "stream",
     "text": [
      "{'fit_intercept': True}\n",
      "{'n_estimators': 40, 'min_samples_leaf': 2}\n",
      "{'cv': 4, 'verbose': 2}\n",
      "Fitting 4 folds for each of 2 candidates, totalling 8 fits\n",
      "\n",
      "        Error occured in script: \n",
      "        [ c:\\users\\fazlu\\machine learning projects\\machine-learning-regression-project\\housing\\entity\\model_factory.py ] at \n",
      "        try block line number: [ 240 ] and excetion block line number: [ 251 ] \n",
      "        error message: [ Invalid parameter paramfit_intercept_name for estimator LinearRegression(). Check the list of available parameters with `estimator.get_params().keys()`. ]\n",
      "        \n",
      "        \n",
      "\n",
      "        Error occured in script: \n",
      "        [ c:\\users\\fazlu\\machine learning projects\\machine-learning-regression-project\\housing\\entity\\model_factory.py ] at \n",
      "        try block line number: [ 303 ] and excetion block line number: [ 307 ] \n",
      "        error message: [ \n",
      "        Error occured in script: \n",
      "        [ c:\\users\\fazlu\\machine learning projects\\machine-learning-regression-project\\housing\\entity\\model_factory.py ] at \n",
      "        try block line number: [ 240 ] and excetion block line number: [ 251 ] \n",
      "        error message: [ Invalid parameter paramfit_intercept_name for estimator LinearRegression(). Check the list of available parameters with `estimator.get_params().keys()`. ]\n",
      "        \n",
      "         ]\n",
      "        \n",
      "        \n",
      "\n",
      "        Error occured in script: \n",
      "        [ c:\\users\\fazlu\\machine learning projects\\machine-learning-regression-project\\housing\\entity\\model_factory.py ] at \n",
      "        try block line number: [ 317 ] and excetion block line number: [ 325 ] \n",
      "        error message: [ \n",
      "        Error occured in script: \n",
      "        [ c:\\users\\fazlu\\machine learning projects\\machine-learning-regression-project\\housing\\entity\\model_factory.py ] at \n",
      "        try block line number: [ 303 ] and excetion block line number: [ 307 ] \n",
      "        error message: [ \n",
      "        Error occured in script: \n",
      "        [ c:\\users\\fazlu\\machine learning projects\\machine-learning-regression-project\\housing\\entity\\model_factory.py ] at \n",
      "        try block line number: [ 240 ] and excetion block line number: [ 251 ] \n",
      "        error message: [ Invalid parameter paramfit_intercept_name for estimator LinearRegression(). Check the list of available parameters with `estimator.get_params().keys()`. ]\n",
      "        \n",
      "         ]\n",
      "        \n",
      "         ]\n",
      "        \n",
      "        \n",
      "\n",
      "        Error occured in script: \n",
      "        [ c:\\users\\fazlu\\machine learning projects\\machine-learning-regression-project\\housing\\entity\\model_factory.py ] at \n",
      "        try block line number: [ 364 ] and excetion block line number: [ 372 ] \n",
      "        error message: [ \n",
      "        Error occured in script: \n",
      "        [ c:\\users\\fazlu\\machine learning projects\\machine-learning-regression-project\\housing\\entity\\model_factory.py ] at \n",
      "        try block line number: [ 317 ] and excetion block line number: [ 325 ] \n",
      "        error message: [ \n",
      "        Error occured in script: \n",
      "        [ c:\\users\\fazlu\\machine learning projects\\machine-learning-regression-project\\housing\\entity\\model_factory.py ] at \n",
      "        try block line number: [ 303 ] and excetion block line number: [ 307 ] \n",
      "        error message: [ \n",
      "        Error occured in script: \n",
      "        [ c:\\users\\fazlu\\machine learning projects\\machine-learning-regression-project\\housing\\entity\\model_factory.py ] at \n",
      "        try block line number: [ 240 ] and excetion block line number: [ 251 ] \n",
      "        error message: [ Invalid parameter paramfit_intercept_name for estimator LinearRegression(). Check the list of available parameters with `estimator.get_params().keys()`. ]\n",
      "        \n",
      "         ]\n",
      "        \n",
      "         ]\n",
      "        \n",
      "         ]\n",
      "        \n",
      "        \n"
     ]
    },
    {
     "ename": "HousingException",
     "evalue": "\n        Error occured in script: \n        [ c:\\users\\fazlu\\machine learning projects\\machine-learning-regression-project\\housing\\entity\\model_factory.py ] at \n        try block line number: [ 364 ] and excetion block line number: [ 372 ] \n        error message: [ \n        Error occured in script: \n        [ c:\\users\\fazlu\\machine learning projects\\machine-learning-regression-project\\housing\\entity\\model_factory.py ] at \n        try block line number: [ 317 ] and excetion block line number: [ 325 ] \n        error message: [ \n        Error occured in script: \n        [ c:\\users\\fazlu\\machine learning projects\\machine-learning-regression-project\\housing\\entity\\model_factory.py ] at \n        try block line number: [ 303 ] and excetion block line number: [ 307 ] \n        error message: [ \n        Error occured in script: \n        [ c:\\users\\fazlu\\machine learning projects\\machine-learning-regression-project\\housing\\entity\\model_factory.py ] at \n        try block line number: [ 240 ] and excetion block line number: [ 251 ] \n        error message: [ Invalid parameter paramfit_intercept_name for estimator LinearRegression(). Check the list of available parameters with `estimator.get_params().keys()`. ]\n        \n         ]\n        \n         ]\n        \n         ]\n        \n        ",
     "output_type": "error",
     "traceback": [
      "\u001b[1;31m---------------------------------------------------------------------------\u001b[0m",
      "\u001b[1;31mValueError\u001b[0m                                Traceback (most recent call last)",
      "File \u001b[1;32mc:\\users\\fazlu\\machine learning projects\\machine-learning-regression-project\\housing\\entity\\model_factory.py:240\u001b[0m, in \u001b[0;36mModelFactory.execute_grid_search_operation\u001b[1;34m(self, initialized_model, input_feature, output_feature)\u001b[0m\n\u001b[0;32m    239\u001b[0m logging\u001b[39m.\u001b[39minfo(message)\n\u001b[1;32m--> 240\u001b[0m grid_search_cv\u001b[39m.\u001b[39;49mfit(input_feature, output_feature)\n\u001b[0;32m    241\u001b[0m message \u001b[39m=\u001b[39m \u001b[39mf\u001b[39m\u001b[39m'\u001b[39m\u001b[39m{\u001b[39;00m\u001b[39m\"\u001b[39m\u001b[39m>>\u001b[39m\u001b[39m\"\u001b[39m\u001b[39m*\u001b[39m \u001b[39m30\u001b[39m\u001b[39m}\u001b[39;00m\u001b[39m f\u001b[39m\u001b[39m\"\u001b[39m\u001b[39mTraining \u001b[39m\u001b[39m{\u001b[39;00m\u001b[39mtype\u001b[39m(initialized_model\u001b[39m.\u001b[39mmodel)\u001b[39m.\u001b[39m\u001b[39m__name__\u001b[39m\u001b[39m}\u001b[39;00m\u001b[39m\"\u001b[39m\u001b[39m completed \u001b[39m\u001b[39m{\u001b[39;00m\u001b[39m\"\u001b[39m\u001b[39m<<\u001b[39m\u001b[39m\"\u001b[39m\u001b[39m*\u001b[39m\u001b[39m30\u001b[39m\u001b[39m}\u001b[39;00m\u001b[39m'\u001b[39m\n",
      "File \u001b[1;32mc:\\Users\\fazlu\\anaconda3\\lib\\site-packages\\sklearn\\model_selection\\_search.py:891\u001b[0m, in \u001b[0;36mBaseSearchCV.fit\u001b[1;34m(self, X, y, groups, **fit_params)\u001b[0m\n\u001b[0;32m    889\u001b[0m     \u001b[39mreturn\u001b[39;00m results\n\u001b[1;32m--> 891\u001b[0m \u001b[39mself\u001b[39;49m\u001b[39m.\u001b[39;49m_run_search(evaluate_candidates)\n\u001b[0;32m    893\u001b[0m \u001b[39m# multimetric is determined here because in the case of a callable\u001b[39;00m\n\u001b[0;32m    894\u001b[0m \u001b[39m# self.scoring the return type is only known after calling\u001b[39;00m\n",
      "File \u001b[1;32mc:\\Users\\fazlu\\anaconda3\\lib\\site-packages\\sklearn\\model_selection\\_search.py:1392\u001b[0m, in \u001b[0;36mGridSearchCV._run_search\u001b[1;34m(self, evaluate_candidates)\u001b[0m\n\u001b[0;32m   1391\u001b[0m \u001b[39m\"\"\"Search all candidates in param_grid\"\"\"\u001b[39;00m\n\u001b[1;32m-> 1392\u001b[0m evaluate_candidates(ParameterGrid(\u001b[39mself\u001b[39;49m\u001b[39m.\u001b[39;49mparam_grid))\n",
      "File \u001b[1;32mc:\\Users\\fazlu\\anaconda3\\lib\\site-packages\\sklearn\\model_selection\\_search.py:838\u001b[0m, in \u001b[0;36mBaseSearchCV.fit.<locals>.evaluate_candidates\u001b[1;34m(candidate_params, cv, more_results)\u001b[0m\n\u001b[0;32m    831\u001b[0m     \u001b[39mprint\u001b[39m(\n\u001b[0;32m    832\u001b[0m         \u001b[39m\"\u001b[39m\u001b[39mFitting \u001b[39m\u001b[39m{0}\u001b[39;00m\u001b[39m folds for each of \u001b[39m\u001b[39m{1}\u001b[39;00m\u001b[39m candidates,\u001b[39m\u001b[39m\"\u001b[39m\n\u001b[0;32m    833\u001b[0m         \u001b[39m\"\u001b[39m\u001b[39m totalling \u001b[39m\u001b[39m{2}\u001b[39;00m\u001b[39m fits\u001b[39m\u001b[39m\"\u001b[39m\u001b[39m.\u001b[39mformat(\n\u001b[0;32m    834\u001b[0m             n_splits, n_candidates, n_candidates \u001b[39m*\u001b[39m n_splits\n\u001b[0;32m    835\u001b[0m         )\n\u001b[0;32m    836\u001b[0m     )\n\u001b[1;32m--> 838\u001b[0m out \u001b[39m=\u001b[39m parallel(\n\u001b[0;32m    839\u001b[0m     delayed(_fit_and_score)(\n\u001b[0;32m    840\u001b[0m         clone(base_estimator),\n\u001b[0;32m    841\u001b[0m         X,\n\u001b[0;32m    842\u001b[0m         y,\n\u001b[0;32m    843\u001b[0m         train\u001b[39m=\u001b[39;49mtrain,\n\u001b[0;32m    844\u001b[0m         test\u001b[39m=\u001b[39;49mtest,\n\u001b[0;32m    845\u001b[0m         parameters\u001b[39m=\u001b[39;49mparameters,\n\u001b[0;32m    846\u001b[0m         split_progress\u001b[39m=\u001b[39;49m(split_idx, n_splits),\n\u001b[0;32m    847\u001b[0m         candidate_progress\u001b[39m=\u001b[39;49m(cand_idx, n_candidates),\n\u001b[0;32m    848\u001b[0m         \u001b[39m*\u001b[39;49m\u001b[39m*\u001b[39;49mfit_and_score_kwargs,\n\u001b[0;32m    849\u001b[0m     )\n\u001b[0;32m    850\u001b[0m     \u001b[39mfor\u001b[39;49;00m (cand_idx, parameters), (split_idx, (train, test)) \u001b[39min\u001b[39;49;00m product(\n\u001b[0;32m    851\u001b[0m         \u001b[39menumerate\u001b[39;49m(candidate_params), \u001b[39menumerate\u001b[39;49m(cv\u001b[39m.\u001b[39;49msplit(X, y, groups))\n\u001b[0;32m    852\u001b[0m     )\n\u001b[0;32m    853\u001b[0m )\n\u001b[0;32m    855\u001b[0m \u001b[39mif\u001b[39;00m \u001b[39mlen\u001b[39m(out) \u001b[39m<\u001b[39m \u001b[39m1\u001b[39m:\n",
      "File \u001b[1;32mc:\\Users\\fazlu\\anaconda3\\lib\\site-packages\\joblib\\parallel.py:1043\u001b[0m, in \u001b[0;36mParallel.__call__\u001b[1;34m(self, iterable)\u001b[0m\n\u001b[0;32m   1042\u001b[0m \u001b[39mself\u001b[39m\u001b[39m.\u001b[39m_iterating \u001b[39m=\u001b[39m \u001b[39mFalse\u001b[39;00m\n\u001b[1;32m-> 1043\u001b[0m \u001b[39mif\u001b[39;00m \u001b[39mself\u001b[39;49m\u001b[39m.\u001b[39;49mdispatch_one_batch(iterator):\n\u001b[0;32m   1044\u001b[0m     \u001b[39mself\u001b[39m\u001b[39m.\u001b[39m_iterating \u001b[39m=\u001b[39m \u001b[39mself\u001b[39m\u001b[39m.\u001b[39m_original_iterator \u001b[39mis\u001b[39;00m \u001b[39mnot\u001b[39;00m \u001b[39mNone\u001b[39;00m\n",
      "File \u001b[1;32mc:\\Users\\fazlu\\anaconda3\\lib\\site-packages\\joblib\\parallel.py:861\u001b[0m, in \u001b[0;36mParallel.dispatch_one_batch\u001b[1;34m(self, iterator)\u001b[0m\n\u001b[0;32m    860\u001b[0m \u001b[39melse\u001b[39;00m:\n\u001b[1;32m--> 861\u001b[0m     \u001b[39mself\u001b[39;49m\u001b[39m.\u001b[39;49m_dispatch(tasks)\n\u001b[0;32m    862\u001b[0m     \u001b[39mreturn\u001b[39;00m \u001b[39mTrue\u001b[39;00m\n",
      "File \u001b[1;32mc:\\Users\\fazlu\\anaconda3\\lib\\site-packages\\joblib\\parallel.py:779\u001b[0m, in \u001b[0;36mParallel._dispatch\u001b[1;34m(self, batch)\u001b[0m\n\u001b[0;32m    778\u001b[0m job_idx \u001b[39m=\u001b[39m \u001b[39mlen\u001b[39m(\u001b[39mself\u001b[39m\u001b[39m.\u001b[39m_jobs)\n\u001b[1;32m--> 779\u001b[0m job \u001b[39m=\u001b[39m \u001b[39mself\u001b[39;49m\u001b[39m.\u001b[39;49m_backend\u001b[39m.\u001b[39;49mapply_async(batch, callback\u001b[39m=\u001b[39;49mcb)\n\u001b[0;32m    780\u001b[0m \u001b[39m# A job can complete so quickly than its callback is\u001b[39;00m\n\u001b[0;32m    781\u001b[0m \u001b[39m# called before we get here, causing self._jobs to\u001b[39;00m\n\u001b[0;32m    782\u001b[0m \u001b[39m# grow. To ensure correct results ordering, .insert is\u001b[39;00m\n\u001b[0;32m    783\u001b[0m \u001b[39m# used (rather than .append) in the following line\u001b[39;00m\n",
      "File \u001b[1;32mc:\\Users\\fazlu\\anaconda3\\lib\\site-packages\\joblib\\_parallel_backends.py:208\u001b[0m, in \u001b[0;36mSequentialBackend.apply_async\u001b[1;34m(self, func, callback)\u001b[0m\n\u001b[0;32m    207\u001b[0m \u001b[39m\"\"\"Schedule a func to be run\"\"\"\u001b[39;00m\n\u001b[1;32m--> 208\u001b[0m result \u001b[39m=\u001b[39m ImmediateResult(func)\n\u001b[0;32m    209\u001b[0m \u001b[39mif\u001b[39;00m callback:\n",
      "File \u001b[1;32mc:\\Users\\fazlu\\anaconda3\\lib\\site-packages\\joblib\\_parallel_backends.py:572\u001b[0m, in \u001b[0;36mImmediateResult.__init__\u001b[1;34m(self, batch)\u001b[0m\n\u001b[0;32m    569\u001b[0m \u001b[39mdef\u001b[39;00m \u001b[39m__init__\u001b[39m(\u001b[39mself\u001b[39m, batch):\n\u001b[0;32m    570\u001b[0m     \u001b[39m# Don't delay the application, to avoid keeping the input\u001b[39;00m\n\u001b[0;32m    571\u001b[0m     \u001b[39m# arguments in memory\u001b[39;00m\n\u001b[1;32m--> 572\u001b[0m     \u001b[39mself\u001b[39m\u001b[39m.\u001b[39mresults \u001b[39m=\u001b[39m batch()\n",
      "File \u001b[1;32mc:\\Users\\fazlu\\anaconda3\\lib\\site-packages\\joblib\\parallel.py:262\u001b[0m, in \u001b[0;36mBatchedCalls.__call__\u001b[1;34m(self)\u001b[0m\n\u001b[0;32m    261\u001b[0m \u001b[39mwith\u001b[39;00m parallel_backend(\u001b[39mself\u001b[39m\u001b[39m.\u001b[39m_backend, n_jobs\u001b[39m=\u001b[39m\u001b[39mself\u001b[39m\u001b[39m.\u001b[39m_n_jobs):\n\u001b[1;32m--> 262\u001b[0m     \u001b[39mreturn\u001b[39;00m [func(\u001b[39m*\u001b[39margs, \u001b[39m*\u001b[39m\u001b[39m*\u001b[39mkwargs)\n\u001b[0;32m    263\u001b[0m             \u001b[39mfor\u001b[39;00m func, args, kwargs \u001b[39min\u001b[39;00m \u001b[39mself\u001b[39m\u001b[39m.\u001b[39mitems]\n",
      "File \u001b[1;32mc:\\Users\\fazlu\\anaconda3\\lib\\site-packages\\joblib\\parallel.py:262\u001b[0m, in \u001b[0;36m<listcomp>\u001b[1;34m(.0)\u001b[0m\n\u001b[0;32m    261\u001b[0m \u001b[39mwith\u001b[39;00m parallel_backend(\u001b[39mself\u001b[39m\u001b[39m.\u001b[39m_backend, n_jobs\u001b[39m=\u001b[39m\u001b[39mself\u001b[39m\u001b[39m.\u001b[39m_n_jobs):\n\u001b[1;32m--> 262\u001b[0m     \u001b[39mreturn\u001b[39;00m [func(\u001b[39m*\u001b[39margs, \u001b[39m*\u001b[39m\u001b[39m*\u001b[39mkwargs)\n\u001b[0;32m    263\u001b[0m             \u001b[39mfor\u001b[39;00m func, args, kwargs \u001b[39min\u001b[39;00m \u001b[39mself\u001b[39m\u001b[39m.\u001b[39mitems]\n",
      "File \u001b[1;32mc:\\Users\\fazlu\\anaconda3\\lib\\site-packages\\sklearn\\utils\\fixes.py:216\u001b[0m, in \u001b[0;36m_FuncWrapper.__call__\u001b[1;34m(self, *args, **kwargs)\u001b[0m\n\u001b[0;32m    215\u001b[0m \u001b[39mwith\u001b[39;00m config_context(\u001b[39m*\u001b[39m\u001b[39m*\u001b[39m\u001b[39mself\u001b[39m\u001b[39m.\u001b[39mconfig):\n\u001b[1;32m--> 216\u001b[0m     \u001b[39mreturn\u001b[39;00m \u001b[39mself\u001b[39m\u001b[39m.\u001b[39mfunction(\u001b[39m*\u001b[39margs, \u001b[39m*\u001b[39m\u001b[39m*\u001b[39mkwargs)\n",
      "File \u001b[1;32mc:\\Users\\fazlu\\anaconda3\\lib\\site-packages\\sklearn\\model_selection\\_validation.py:668\u001b[0m, in \u001b[0;36m_fit_and_score\u001b[1;34m(estimator, X, y, scorer, train, test, verbose, parameters, fit_params, return_train_score, return_parameters, return_n_test_samples, return_times, return_estimator, split_progress, candidate_progress, error_score)\u001b[0m\n\u001b[0;32m    666\u001b[0m         cloned_parameters[k] \u001b[39m=\u001b[39m clone(v, safe\u001b[39m=\u001b[39m\u001b[39mFalse\u001b[39;00m)\n\u001b[1;32m--> 668\u001b[0m     estimator \u001b[39m=\u001b[39m estimator\u001b[39m.\u001b[39mset_params(\u001b[39m*\u001b[39m\u001b[39m*\u001b[39mcloned_parameters)\n\u001b[0;32m    670\u001b[0m start_time \u001b[39m=\u001b[39m time\u001b[39m.\u001b[39mtime()\n",
      "File \u001b[1;32mc:\\Users\\fazlu\\anaconda3\\lib\\site-packages\\sklearn\\base.py:245\u001b[0m, in \u001b[0;36mBaseEstimator.set_params\u001b[1;34m(self, **params)\u001b[0m\n\u001b[0;32m    244\u001b[0m \u001b[39mif\u001b[39;00m key \u001b[39mnot\u001b[39;00m \u001b[39min\u001b[39;00m valid_params:\n\u001b[1;32m--> 245\u001b[0m     \u001b[39mraise\u001b[39;00m \u001b[39mValueError\u001b[39;00m(\n\u001b[0;32m    246\u001b[0m         \u001b[39m\"\u001b[39m\u001b[39mInvalid parameter \u001b[39m\u001b[39m%s\u001b[39;00m\u001b[39m for estimator \u001b[39m\u001b[39m%s\u001b[39;00m\u001b[39m. \u001b[39m\u001b[39m\"\u001b[39m\n\u001b[0;32m    247\u001b[0m         \u001b[39m\"\u001b[39m\u001b[39mCheck the list of available parameters \u001b[39m\u001b[39m\"\u001b[39m\n\u001b[0;32m    248\u001b[0m         \u001b[39m\"\u001b[39m\u001b[39mwith `estimator.get_params().keys()`.\u001b[39m\u001b[39m\"\u001b[39m \u001b[39m%\u001b[39m (key, \u001b[39mself\u001b[39m)\n\u001b[0;32m    249\u001b[0m     )\n\u001b[0;32m    251\u001b[0m \u001b[39mif\u001b[39;00m delim:\n",
      "\u001b[1;31mValueError\u001b[0m: Invalid parameter paramfit_intercept_name for estimator LinearRegression(). Check the list of available parameters with `estimator.get_params().keys()`.",
      "\nThe above exception was the direct cause of the following exception:\n",
      "\u001b[1;31mHousingException\u001b[0m                          Traceback (most recent call last)",
      "File \u001b[1;32mc:\\users\\fazlu\\machine learning projects\\machine-learning-regression-project\\housing\\entity\\model_factory.py:303\u001b[0m, in \u001b[0;36mModelFactory.initiate_best_parameter_search_for_initialized_model\u001b[1;34m(self, initialized_model, input_feature, output_feature)\u001b[0m\n\u001b[0;32m    302\u001b[0m \u001b[39mtry\u001b[39;00m:\n\u001b[1;32m--> 303\u001b[0m     \u001b[39mreturn\u001b[39;00m \u001b[39mself\u001b[39;49m\u001b[39m.\u001b[39;49mexecute_grid_search_operation(initialized_model\u001b[39m=\u001b[39;49minitialized_model,\n\u001b[0;32m    304\u001b[0m                                               input_feature\u001b[39m=\u001b[39;49minput_feature,\n\u001b[0;32m    305\u001b[0m                                               output_feature\u001b[39m=\u001b[39;49moutput_feature)\n\u001b[0;32m    306\u001b[0m \u001b[39mexcept\u001b[39;00m \u001b[39mException\u001b[39;00m \u001b[39mas\u001b[39;00m e:\n",
      "File \u001b[1;32mc:\\users\\fazlu\\machine learning projects\\machine-learning-regression-project\\housing\\entity\\model_factory.py:251\u001b[0m, in \u001b[0;36mModelFactory.execute_grid_search_operation\u001b[1;34m(self, initialized_model, input_feature, output_feature)\u001b[0m\n\u001b[0;32m    250\u001b[0m \u001b[39mexcept\u001b[39;00m \u001b[39mException\u001b[39;00m \u001b[39mas\u001b[39;00m e:\n\u001b[1;32m--> 251\u001b[0m     \u001b[39mraise\u001b[39;00m HousingException(e, sys) \u001b[39mfrom\u001b[39;00m \u001b[39me\u001b[39;00m\n",
      "\u001b[1;31mHousingException\u001b[0m: \n        Error occured in script: \n        [ c:\\users\\fazlu\\machine learning projects\\machine-learning-regression-project\\housing\\entity\\model_factory.py ] at \n        try block line number: [ 240 ] and excetion block line number: [ 251 ] \n        error message: [ Invalid parameter paramfit_intercept_name for estimator LinearRegression(). Check the list of available parameters with `estimator.get_params().keys()`. ]\n        \n        ",
      "\nThe above exception was the direct cause of the following exception:\n",
      "\u001b[1;31mHousingException\u001b[0m                          Traceback (most recent call last)",
      "File \u001b[1;32mc:\\users\\fazlu\\machine learning projects\\machine-learning-regression-project\\housing\\entity\\model_factory.py:317\u001b[0m, in \u001b[0;36mModelFactory.initiate_best_parameter_search_for_initialized_models\u001b[1;34m(self, initialized_model_list, input_feature, output_feature)\u001b[0m\n\u001b[0;32m    316\u001b[0m \u001b[39mfor\u001b[39;00m initialized_model_list \u001b[39min\u001b[39;00m initialized_model_list:\n\u001b[1;32m--> 317\u001b[0m     grid_searched_best_model \u001b[39m=\u001b[39m \u001b[39mself\u001b[39;49m\u001b[39m.\u001b[39;49minitiate_best_parameter_search_for_initialized_model(\n\u001b[0;32m    318\u001b[0m         initialized_model\u001b[39m=\u001b[39;49minitialized_model_list,\n\u001b[0;32m    319\u001b[0m         input_feature\u001b[39m=\u001b[39;49minput_feature,\n\u001b[0;32m    320\u001b[0m         output_feature\u001b[39m=\u001b[39;49moutput_feature\n\u001b[0;32m    321\u001b[0m     )\n\u001b[0;32m    322\u001b[0m     \u001b[39mself\u001b[39m\u001b[39m.\u001b[39mgrid_searched_best_model_list\u001b[39m.\u001b[39mappend(grid_searched_best_model)\n",
      "File \u001b[1;32mc:\\users\\fazlu\\machine learning projects\\machine-learning-regression-project\\housing\\entity\\model_factory.py:307\u001b[0m, in \u001b[0;36mModelFactory.initiate_best_parameter_search_for_initialized_model\u001b[1;34m(self, initialized_model, input_feature, output_feature)\u001b[0m\n\u001b[0;32m    306\u001b[0m \u001b[39mexcept\u001b[39;00m \u001b[39mException\u001b[39;00m \u001b[39mas\u001b[39;00m e:\n\u001b[1;32m--> 307\u001b[0m     \u001b[39mraise\u001b[39;00m HousingException(e, sys) \u001b[39mfrom\u001b[39;00m \u001b[39me\u001b[39;00m\n",
      "\u001b[1;31mHousingException\u001b[0m: \n        Error occured in script: \n        [ c:\\users\\fazlu\\machine learning projects\\machine-learning-regression-project\\housing\\entity\\model_factory.py ] at \n        try block line number: [ 303 ] and excetion block line number: [ 307 ] \n        error message: [ \n        Error occured in script: \n        [ c:\\users\\fazlu\\machine learning projects\\machine-learning-regression-project\\housing\\entity\\model_factory.py ] at \n        try block line number: [ 240 ] and excetion block line number: [ 251 ] \n        error message: [ Invalid parameter paramfit_intercept_name for estimator LinearRegression(). Check the list of available parameters with `estimator.get_params().keys()`. ]\n        \n         ]\n        \n        ",
      "\nThe above exception was the direct cause of the following exception:\n",
      "\u001b[1;31mHousingException\u001b[0m                          Traceback (most recent call last)",
      "File \u001b[1;32mc:\\users\\fazlu\\machine learning projects\\machine-learning-regression-project\\housing\\entity\\model_factory.py:364\u001b[0m, in \u001b[0;36mModelFactory.get_best_model\u001b[1;34m(self, X, y, base_accuracy)\u001b[0m\n\u001b[0;32m    363\u001b[0m logging\u001b[39m.\u001b[39minfo(\u001b[39mf\u001b[39m\u001b[39m\"\u001b[39m\u001b[39mInitialized model: \u001b[39m\u001b[39m{\u001b[39;00minitialized_model_list\u001b[39m}\u001b[39;00m\u001b[39m\"\u001b[39m)\n\u001b[1;32m--> 364\u001b[0m grid_searched_best_model_list \u001b[39m=\u001b[39m \u001b[39mself\u001b[39;49m\u001b[39m.\u001b[39;49minitiate_best_parameter_search_for_initialized_models(\n\u001b[0;32m    365\u001b[0m     initialized_model_list\u001b[39m=\u001b[39;49minitialized_model_list,\n\u001b[0;32m    366\u001b[0m     input_feature\u001b[39m=\u001b[39;49mX,\n\u001b[0;32m    367\u001b[0m     output_feature\u001b[39m=\u001b[39;49my\n\u001b[0;32m    368\u001b[0m )\n\u001b[0;32m    369\u001b[0m \u001b[39mreturn\u001b[39;00m ModelFactory\u001b[39m.\u001b[39mget_best_model_from_grid_searched_best_model_list(grid_searched_best_model_list,\n\u001b[0;32m    370\u001b[0m                                                                       base_accuracy\u001b[39m=\u001b[39mbase_accuracy)\n",
      "File \u001b[1;32mc:\\users\\fazlu\\machine learning projects\\machine-learning-regression-project\\housing\\entity\\model_factory.py:325\u001b[0m, in \u001b[0;36mModelFactory.initiate_best_parameter_search_for_initialized_models\u001b[1;34m(self, initialized_model_list, input_feature, output_feature)\u001b[0m\n\u001b[0;32m    324\u001b[0m \u001b[39mexcept\u001b[39;00m \u001b[39mException\u001b[39;00m \u001b[39mas\u001b[39;00m e:\n\u001b[1;32m--> 325\u001b[0m     \u001b[39mraise\u001b[39;00m HousingException(e, sys) \u001b[39mfrom\u001b[39;00m \u001b[39me\u001b[39;00m\n",
      "\u001b[1;31mHousingException\u001b[0m: \n        Error occured in script: \n        [ c:\\users\\fazlu\\machine learning projects\\machine-learning-regression-project\\housing\\entity\\model_factory.py ] at \n        try block line number: [ 317 ] and excetion block line number: [ 325 ] \n        error message: [ \n        Error occured in script: \n        [ c:\\users\\fazlu\\machine learning projects\\machine-learning-regression-project\\housing\\entity\\model_factory.py ] at \n        try block line number: [ 303 ] and excetion block line number: [ 307 ] \n        error message: [ \n        Error occured in script: \n        [ c:\\users\\fazlu\\machine learning projects\\machine-learning-regression-project\\housing\\entity\\model_factory.py ] at \n        try block line number: [ 240 ] and excetion block line number: [ 251 ] \n        error message: [ Invalid parameter paramfit_intercept_name for estimator LinearRegression(). Check the list of available parameters with `estimator.get_params().keys()`. ]\n        \n         ]\n        \n         ]\n        \n        ",
      "\nDuring handling of the above exception, another exception occurred:\n",
      "\u001b[1;31mHousingException\u001b[0m                          Traceback (most recent call last)",
      "\u001b[1;32mc:\\Users\\fazlu\\Machine Learning Projects\\machine-learning-regression-project\\notebook\\model_training.ipynb Cell 15\u001b[0m in \u001b[0;36m<cell line: 1>\u001b[1;34m()\u001b[0m\n\u001b[1;32m----> <a href='vscode-notebook-cell:/c%3A/Users/fazlu/Machine%20Learning%20Projects/machine-learning-regression-project/notebook/model_training.ipynb#X13sZmlsZQ%3D%3D?line=0'>1</a>\u001b[0m best_model \u001b[39m=\u001b[39m model_factory\u001b[39m.\u001b[39;49mget_best_model(x,y)\n",
      "File \u001b[1;32mc:\\users\\fazlu\\machine learning projects\\machine-learning-regression-project\\housing\\entity\\model_factory.py:372\u001b[0m, in \u001b[0;36mModelFactory.get_best_model\u001b[1;34m(self, X, y, base_accuracy)\u001b[0m\n\u001b[0;32m    369\u001b[0m     \u001b[39mreturn\u001b[39;00m ModelFactory\u001b[39m.\u001b[39mget_best_model_from_grid_searched_best_model_list(grid_searched_best_model_list,\n\u001b[0;32m    370\u001b[0m                                                                           base_accuracy\u001b[39m=\u001b[39mbase_accuracy)\n\u001b[0;32m    371\u001b[0m \u001b[39mexcept\u001b[39;00m \u001b[39mException\u001b[39;00m \u001b[39mas\u001b[39;00m e:\n\u001b[1;32m--> 372\u001b[0m     \u001b[39mraise\u001b[39;00m HousingException(e, sys)\n",
      "\u001b[1;31mHousingException\u001b[0m: \n        Error occured in script: \n        [ c:\\users\\fazlu\\machine learning projects\\machine-learning-regression-project\\housing\\entity\\model_factory.py ] at \n        try block line number: [ 364 ] and excetion block line number: [ 372 ] \n        error message: [ \n        Error occured in script: \n        [ c:\\users\\fazlu\\machine learning projects\\machine-learning-regression-project\\housing\\entity\\model_factory.py ] at \n        try block line number: [ 317 ] and excetion block line number: [ 325 ] \n        error message: [ \n        Error occured in script: \n        [ c:\\users\\fazlu\\machine learning projects\\machine-learning-regression-project\\housing\\entity\\model_factory.py ] at \n        try block line number: [ 303 ] and excetion block line number: [ 307 ] \n        error message: [ \n        Error occured in script: \n        [ c:\\users\\fazlu\\machine learning projects\\machine-learning-regression-project\\housing\\entity\\model_factory.py ] at \n        try block line number: [ 240 ] and excetion block line number: [ 251 ] \n        error message: [ Invalid parameter paramfit_intercept_name for estimator LinearRegression(). Check the list of available parameters with `estimator.get_params().keys()`. ]\n        \n         ]\n        \n         ]\n        \n         ]\n        \n        "
     ]
    }
   ],
   "source": [
    "best_model = model_factory.get_best_model(x,y)"
   ]
  },
  {
   "cell_type": "code",
   "execution_count": null,
   "metadata": {},
   "outputs": [],
   "source": []
  }
 ],
 "metadata": {
  "kernelspec": {
   "display_name": "Python 3.9.12 ('base')",
   "language": "python",
   "name": "python3"
  },
  "language_info": {
   "codemirror_mode": {
    "name": "ipython",
    "version": 3
   },
   "file_extension": ".py",
   "mimetype": "text/x-python",
   "name": "python",
   "nbconvert_exporter": "python",
   "pygments_lexer": "ipython3",
   "version": "3.9.12"
  },
  "orig_nbformat": 4,
  "vscode": {
   "interpreter": {
    "hash": "99c009ed0cc6bd0041b8202e4f948e1493d9c84f8cd4368a74d830fefbdb7423"
   }
  }
 },
 "nbformat": 4,
 "nbformat_minor": 2
}
